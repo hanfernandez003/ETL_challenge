{
 "cells": [
  {
   "cell_type": "code",
   "execution_count": 1,
   "metadata": {},
   "outputs": [],
   "source": [
    "import pandas as pd\n",
    "from sqlalchemy import create_engine\n",
    "import pandas as pd\n",
    "import numpy as np\n",
    "import requests\n",
    "import json\n",
    "from pprint import pprint\n",
    "\n",
    "# Import API key\n",
    "from api_keys import d_key"
   ]
  },
  {
   "cell_type": "markdown",
   "metadata": {},
   "source": [
    "### Extract CSVs into DataFrames"
   ]
  },
  {
   "cell_type": "code",
   "execution_count": 2,
   "metadata": {},
   "outputs": [
    {
     "name": "stdout",
     "output_type": "stream",
     "text": [
      "{'bred_for': 'Small rodent hunting, lapdog',\n",
      " 'breed_group': 'Toy',\n",
      " 'height': {'imperial': '9 - 11.5', 'metric': '23 - 29'},\n",
      " 'id': 1,\n",
      " 'image': {'height': 1199,\n",
      "           'id': 'BJa4kxc4X',\n",
      "           'url': 'https://cdn2.thedogapi.com/images/BJa4kxc4X.jpg',\n",
      "           'width': 1600},\n",
      " 'life_span': '10 - 12 years',\n",
      " 'name': 'Affenpinscher',\n",
      " 'origin': 'Germany, France',\n",
      " 'reference_image_id': 'BJa4kxc4X',\n",
      " 'temperament': 'Stubborn, Curious, Playful, Adventurous, Active, Fun-loving',\n",
      " 'weight': {'imperial': '6 - 13', 'metric': '3 - 6'}}\n"
     ]
    }
   ],
   "source": [
    "# Creates lists for data to be stored \n",
    "id = []\n",
    "name = []\n",
    "weight = []\n",
    "height = []\n",
    "bred_for = []\n",
    "breed_group = []\n",
    "\n",
    "#importing API \n",
    "url = r\"https://api.thedogapi.com/v1/breeds\"\n",
    "response = requests.get(url).json()\n",
    "\n",
    "pprint(response[0])"
   ]
  },
  {
   "cell_type": "code",
   "execution_count": 3,
   "metadata": {},
   "outputs": [
    {
     "name": "stdout",
     "output_type": "stream",
     "text": [
      "id: 1\n",
      "Weight (Kg): 3 - 6\n",
      "Height (cm): 23 - 29\n",
      "Bred for: Small rodent hunting, lapdog\n",
      "Breed Group: Toy\n",
      "....\n",
      "id: 2\n",
      "Weight (Kg): 23 - 27\n",
      "Height (cm): 64 - 69\n",
      "Bred for: Coursing and hunting\n",
      "Breed Group: Hound\n",
      "....\n",
      "id: 3\n",
      "Weight (Kg): 20 - 30\n",
      "Height (cm): 76\n",
      "Bred for: A wild pack animal\n",
      "Breed Group: Unknown\n",
      "....\n",
      "id: 4\n",
      "Weight (Kg): 18 - 29\n",
      "Height (cm): 53 - 58\n",
      "Bred for: Badger, otter hunting\n",
      "Breed Group: Terrier\n",
      "....\n"
     ]
    }
   ],
   "source": [
    "# looping through the API to display specific data \n",
    "x=0\n",
    "while (x) < 4:\n",
    "    #pprint(response[x])\n",
    "    print(f\"id: {response[x]['id']}\")\n",
    "    print(f\"Weight (Kg): {response[x]['weight']['metric']}\")\n",
    "    print(f\"Height (cm): {response[x]['height']['metric']}\")\n",
    "    if 'bred_for' in response[x]:\n",
    "        if not response[x]['bred_for']:\n",
    "            print(\"Bred for: Unknown\")\n",
    "        else:\n",
    "            print(f\"Bred for: {response[x]['bred_for']}\")\n",
    "    else:\n",
    "        print(\"Bred for: Unknown\")\n",
    "    if 'breed_group' in response[x]:\n",
    "        if not response[x]['breed_group'] :\n",
    "            print('Breed Group: Unknown')\n",
    "        else:\n",
    "            print(f\"Breed Group: {response[x]['breed_group']}\")\n",
    "    else:\n",
    "        print('Breed Group: Unknown')\n",
    "    print('....')\n",
    "    x += 1"
   ]
  },
  {
   "cell_type": "code",
   "execution_count": 4,
   "metadata": {},
   "outputs": [
    {
     "name": "stdout",
     "output_type": "stream",
     "text": [
      "172\n",
      "172\n"
     ]
    },
    {
     "data": {
      "text/html": [
       "<div>\n",
       "<style scoped>\n",
       "    .dataframe tbody tr th:only-of-type {\n",
       "        vertical-align: middle;\n",
       "    }\n",
       "\n",
       "    .dataframe tbody tr th {\n",
       "        vertical-align: top;\n",
       "    }\n",
       "\n",
       "    .dataframe thead th {\n",
       "        text-align: right;\n",
       "    }\n",
       "</style>\n",
       "<table border=\"1\" class=\"dataframe\">\n",
       "  <thead>\n",
       "    <tr style=\"text-align: right;\">\n",
       "      <th></th>\n",
       "      <th>ID</th>\n",
       "      <th>breed</th>\n",
       "      <th>weight</th>\n",
       "      <th>height</th>\n",
       "      <th>breed_group</th>\n",
       "      <th>bred_for</th>\n",
       "    </tr>\n",
       "  </thead>\n",
       "  <tbody>\n",
       "    <tr>\n",
       "      <th>0</th>\n",
       "      <td>1</td>\n",
       "      <td>Affenpinscher</td>\n",
       "      <td>3 - 6</td>\n",
       "      <td>23 - 29</td>\n",
       "      <td>Toy</td>\n",
       "      <td>Small rodent hunting, lapdog</td>\n",
       "    </tr>\n",
       "    <tr>\n",
       "      <th>1</th>\n",
       "      <td>2</td>\n",
       "      <td>Afghan Hound</td>\n",
       "      <td>23 - 27</td>\n",
       "      <td>64 - 69</td>\n",
       "      <td>Hound</td>\n",
       "      <td>Coursing and hunting</td>\n",
       "    </tr>\n",
       "    <tr>\n",
       "      <th>2</th>\n",
       "      <td>3</td>\n",
       "      <td>African Hunting Dog</td>\n",
       "      <td>20 - 30</td>\n",
       "      <td>76</td>\n",
       "      <td>Unknown</td>\n",
       "      <td>A wild pack animal</td>\n",
       "    </tr>\n",
       "    <tr>\n",
       "      <th>3</th>\n",
       "      <td>4</td>\n",
       "      <td>Airedale Terrier</td>\n",
       "      <td>18 - 29</td>\n",
       "      <td>53 - 58</td>\n",
       "      <td>Terrier</td>\n",
       "      <td>Badger, otter hunting</td>\n",
       "    </tr>\n",
       "    <tr>\n",
       "      <th>4</th>\n",
       "      <td>5</td>\n",
       "      <td>Akbash Dog</td>\n",
       "      <td>41 - 54</td>\n",
       "      <td>71 - 86</td>\n",
       "      <td>Working</td>\n",
       "      <td>Sheep guarding</td>\n",
       "    </tr>\n",
       "  </tbody>\n",
       "</table>\n",
       "</div>"
      ],
      "text/plain": [
       "   ID                breed   weight   height breed_group  \\\n",
       "0   1        Affenpinscher    3 - 6  23 - 29         Toy   \n",
       "1   2         Afghan Hound  23 - 27  64 - 69       Hound   \n",
       "2   3  African Hunting Dog  20 - 30       76     Unknown   \n",
       "3   4     Airedale Terrier  18 - 29  53 - 58     Terrier   \n",
       "4   5           Akbash Dog  41 - 54  71 - 86     Working   \n",
       "\n",
       "                       bred_for  \n",
       "0  Small rodent hunting, lapdog  \n",
       "1          Coursing and hunting  \n",
       "2            A wild pack animal  \n",
       "3         Badger, otter hunting  \n",
       "4                Sheep guarding  "
      ]
     },
     "execution_count": 4,
     "metadata": {},
     "output_type": "execute_result"
    }
   ],
   "source": [
    "#appending the data to the empty lists \n",
    "for i in response:\n",
    "    id.append(i[\"id\"])\n",
    "    name.append(i[\"name\"])\n",
    "    weight.append(i[\"weight\"]['metric'])\n",
    "    height.append(i[\"height\"]['metric'])\n",
    "    if 'breed_group' in i:\n",
    "        if not i['breed_group']:\n",
    "            breed_group.append('Unknown')\n",
    "        else:\n",
    "            breed_group.append(i['breed_group'])\n",
    "    else:\n",
    "        breed_group.append('Unknown')\n",
    "    if 'bred_for' in i:\n",
    "        if not i['bred_for']:\n",
    "            bred_for.append('Unknown')\n",
    "        else:\n",
    "            bred_for.append(i['bred_for'])\n",
    "    else:\n",
    "        bred_for.append('Unknown')    \n",
    "        \n",
    "#test to ensure lengths are the same\n",
    "print(len(bred_for))\n",
    "print(len(breed_group))\n",
    "\n",
    "# create a dictionary for establishing dataframe\n",
    "dog_data = {\n",
    "    \"ID\":id,\n",
    "    \"breed\":name,\n",
    "    \"weight\": weight,\n",
    "    \"height\": height,\n",
    "    \"breed_group\": breed_group,\n",
    "    \"bred_for\":bred_for,\n",
    "}\n",
    "\n",
    "dog_df = pd.DataFrame(dog_data)\n",
    "\n",
    "dog_df.head()"
   ]
  },
  {
   "cell_type": "code",
   "execution_count": 5,
   "metadata": {},
   "outputs": [
    {
     "data": {
      "text/html": [
       "<div>\n",
       "<style scoped>\n",
       "    .dataframe tbody tr th:only-of-type {\n",
       "        vertical-align: middle;\n",
       "    }\n",
       "\n",
       "    .dataframe tbody tr th {\n",
       "        vertical-align: top;\n",
       "    }\n",
       "\n",
       "    .dataframe thead th {\n",
       "        text-align: right;\n",
       "    }\n",
       "</style>\n",
       "<table border=\"1\" class=\"dataframe\">\n",
       "  <thead>\n",
       "    <tr style=\"text-align: right;\">\n",
       "      <th></th>\n",
       "      <th>Breed</th>\n",
       "      <th>Classification</th>\n",
       "      <th>obey</th>\n",
       "      <th>reps_lower</th>\n",
       "      <th>reps_upper</th>\n",
       "    </tr>\n",
       "  </thead>\n",
       "  <tbody>\n",
       "    <tr>\n",
       "      <th>0</th>\n",
       "      <td>Border Collie</td>\n",
       "      <td>Brightest Dogs</td>\n",
       "      <td>95%</td>\n",
       "      <td>1</td>\n",
       "      <td>4</td>\n",
       "    </tr>\n",
       "    <tr>\n",
       "      <th>1</th>\n",
       "      <td>Poodle</td>\n",
       "      <td>Brightest Dogs</td>\n",
       "      <td>95%</td>\n",
       "      <td>1</td>\n",
       "      <td>4</td>\n",
       "    </tr>\n",
       "    <tr>\n",
       "      <th>2</th>\n",
       "      <td>German Shepherd</td>\n",
       "      <td>Brightest Dogs</td>\n",
       "      <td>95%</td>\n",
       "      <td>1</td>\n",
       "      <td>4</td>\n",
       "    </tr>\n",
       "    <tr>\n",
       "      <th>3</th>\n",
       "      <td>Golden Retriever</td>\n",
       "      <td>Brightest Dogs</td>\n",
       "      <td>95%</td>\n",
       "      <td>1</td>\n",
       "      <td>4</td>\n",
       "    </tr>\n",
       "    <tr>\n",
       "      <th>4</th>\n",
       "      <td>Doberman Pinscher</td>\n",
       "      <td>Brightest Dogs</td>\n",
       "      <td>95%</td>\n",
       "      <td>1</td>\n",
       "      <td>4</td>\n",
       "    </tr>\n",
       "  </tbody>\n",
       "</table>\n",
       "</div>"
      ],
      "text/plain": [
       "               Breed  Classification obey  reps_lower  reps_upper\n",
       "0      Border Collie  Brightest Dogs  95%           1           4\n",
       "1             Poodle  Brightest Dogs  95%           1           4\n",
       "2    German Shepherd  Brightest Dogs  95%           1           4\n",
       "3   Golden Retriever  Brightest Dogs  95%           1           4\n",
       "4  Doberman Pinscher  Brightest Dogs  95%           1           4"
      ]
     },
     "execution_count": 5,
     "metadata": {},
     "output_type": "execute_result"
    }
   ],
   "source": [
    "#importing the dog intelligence CSV \n",
    "intelligence = \"Resources/intelligence.csv\"\n",
    "intelligence_df = pd.read_csv(intelligence)\n",
    "intelligence_df.head()\n"
   ]
  },
  {
   "cell_type": "code",
   "execution_count": 6,
   "metadata": {},
   "outputs": [
    {
     "data": {
      "text/html": [
       "<div>\n",
       "<style scoped>\n",
       "    .dataframe tbody tr th:only-of-type {\n",
       "        vertical-align: middle;\n",
       "    }\n",
       "\n",
       "    .dataframe tbody tr th {\n",
       "        vertical-align: top;\n",
       "    }\n",
       "\n",
       "    .dataframe thead th {\n",
       "        text-align: right;\n",
       "    }\n",
       "</style>\n",
       "<table border=\"1\" class=\"dataframe\">\n",
       "  <thead>\n",
       "    <tr style=\"text-align: right;\">\n",
       "      <th></th>\n",
       "      <th>breed</th>\n",
       "      <th>classification</th>\n",
       "      <th>obey</th>\n",
       "      <th>reps_lower</th>\n",
       "      <th>reps_upper</th>\n",
       "    </tr>\n",
       "  </thead>\n",
       "  <tbody>\n",
       "    <tr>\n",
       "      <th>0</th>\n",
       "      <td>Border Collie</td>\n",
       "      <td>Brightest Dogs</td>\n",
       "      <td>95%</td>\n",
       "      <td>1</td>\n",
       "      <td>4</td>\n",
       "    </tr>\n",
       "    <tr>\n",
       "      <th>1</th>\n",
       "      <td>Poodle</td>\n",
       "      <td>Brightest Dogs</td>\n",
       "      <td>95%</td>\n",
       "      <td>1</td>\n",
       "      <td>4</td>\n",
       "    </tr>\n",
       "    <tr>\n",
       "      <th>2</th>\n",
       "      <td>German Shepherd</td>\n",
       "      <td>Brightest Dogs</td>\n",
       "      <td>95%</td>\n",
       "      <td>1</td>\n",
       "      <td>4</td>\n",
       "    </tr>\n",
       "    <tr>\n",
       "      <th>3</th>\n",
       "      <td>Golden Retriever</td>\n",
       "      <td>Brightest Dogs</td>\n",
       "      <td>95%</td>\n",
       "      <td>1</td>\n",
       "      <td>4</td>\n",
       "    </tr>\n",
       "    <tr>\n",
       "      <th>4</th>\n",
       "      <td>Doberman Pinscher</td>\n",
       "      <td>Brightest Dogs</td>\n",
       "      <td>95%</td>\n",
       "      <td>1</td>\n",
       "      <td>4</td>\n",
       "    </tr>\n",
       "  </tbody>\n",
       "</table>\n",
       "</div>"
      ],
      "text/plain": [
       "               breed  classification obey  reps_lower  reps_upper\n",
       "0      Border Collie  Brightest Dogs  95%           1           4\n",
       "1             Poodle  Brightest Dogs  95%           1           4\n",
       "2    German Shepherd  Brightest Dogs  95%           1           4\n",
       "3   Golden Retriever  Brightest Dogs  95%           1           4\n",
       "4  Doberman Pinscher  Brightest Dogs  95%           1           4"
      ]
     },
     "execution_count": 6,
     "metadata": {},
     "output_type": "execute_result"
    }
   ],
   "source": [
    "\n",
    "intelligence_df.rename(columns={\"Breed\": \"breed\", \"Classification\": \"classification\"},inplace = True)\n",
    "intelligence_df.head()"
   ]
  },
  {
   "cell_type": "code",
   "execution_count": 7,
   "metadata": {},
   "outputs": [
    {
     "name": "stderr",
     "output_type": "stream",
     "text": [
      "/var/folders/w0/dyll3qjj14n0d4qd0jv9g_4w0000gn/T/ipykernel_6768/680784670.py:4: SADeprecationWarning: The Engine.table_names() method is deprecated and will be removed in a future release.  Please refer to Inspector.get_table_names(). (deprecated since: 1.4)\n",
      "  engine.table_names()\n"
     ]
    },
    {
     "data": {
      "text/plain": [
       "['intelligence_info', 'breed_info']"
      ]
     },
     "execution_count": 7,
     "metadata": {},
     "output_type": "execute_result"
    }
   ],
   "source": [
    "#Transforming the data to Postgres \n",
    "rds_connection_string = \"postgres:postgres@localhost:5432/breeds_db\"\n",
    "engine = create_engine(f'postgresql://{rds_connection_string}')\n",
    "engine.table_names()"
   ]
  },
  {
   "cell_type": "code",
   "execution_count": 8,
   "metadata": {},
   "outputs": [
    {
     "name": "stderr",
     "output_type": "stream",
     "text": [
      "/var/folders/w0/dyll3qjj14n0d4qd0jv9g_4w0000gn/T/ipykernel_6768/950548486.py:3: SADeprecationWarning: The Engine.table_names() method is deprecated and will be removed in a future release.  Please refer to Inspector.get_table_names(). (deprecated since: 1.4)\n",
      "  engine.table_names()\n"
     ]
    },
    {
     "data": {
      "text/plain": [
       "['intelligence_info', 'breed_info']"
      ]
     },
     "execution_count": 8,
     "metadata": {},
     "output_type": "execute_result"
    }
   ],
   "source": [
    "#connect intelligence table to postgres\n",
    "intelligence_df.to_sql(name='intelligence_info', con=engine, if_exists='append', index=False)\n",
    "engine.table_names()"
   ]
  },
  {
   "cell_type": "code",
   "execution_count": 9,
   "metadata": {},
   "outputs": [
    {
     "data": {
      "text/html": [
       "<div>\n",
       "<style scoped>\n",
       "    .dataframe tbody tr th:only-of-type {\n",
       "        vertical-align: middle;\n",
       "    }\n",
       "\n",
       "    .dataframe tbody tr th {\n",
       "        vertical-align: top;\n",
       "    }\n",
       "\n",
       "    .dataframe thead th {\n",
       "        text-align: right;\n",
       "    }\n",
       "</style>\n",
       "<table border=\"1\" class=\"dataframe\">\n",
       "  <thead>\n",
       "    <tr style=\"text-align: right;\">\n",
       "      <th></th>\n",
       "      <th>breed</th>\n",
       "      <th>classification</th>\n",
       "      <th>obey</th>\n",
       "      <th>reps_lower</th>\n",
       "      <th>reps_upper</th>\n",
       "    </tr>\n",
       "  </thead>\n",
       "  <tbody>\n",
       "    <tr>\n",
       "      <th>0</th>\n",
       "      <td>Border Collie</td>\n",
       "      <td>Brightest Dogs</td>\n",
       "      <td>95%</td>\n",
       "      <td>1</td>\n",
       "      <td>4</td>\n",
       "    </tr>\n",
       "    <tr>\n",
       "      <th>1</th>\n",
       "      <td>Poodle</td>\n",
       "      <td>Brightest Dogs</td>\n",
       "      <td>95%</td>\n",
       "      <td>1</td>\n",
       "      <td>4</td>\n",
       "    </tr>\n",
       "    <tr>\n",
       "      <th>2</th>\n",
       "      <td>German Shepherd</td>\n",
       "      <td>Brightest Dogs</td>\n",
       "      <td>95%</td>\n",
       "      <td>1</td>\n",
       "      <td>4</td>\n",
       "    </tr>\n",
       "    <tr>\n",
       "      <th>3</th>\n",
       "      <td>Golden Retriever</td>\n",
       "      <td>Brightest Dogs</td>\n",
       "      <td>95%</td>\n",
       "      <td>1</td>\n",
       "      <td>4</td>\n",
       "    </tr>\n",
       "    <tr>\n",
       "      <th>4</th>\n",
       "      <td>Doberman Pinscher</td>\n",
       "      <td>Brightest Dogs</td>\n",
       "      <td>95%</td>\n",
       "      <td>1</td>\n",
       "      <td>4</td>\n",
       "    </tr>\n",
       "  </tbody>\n",
       "</table>\n",
       "</div>"
      ],
      "text/plain": [
       "               breed  classification obey  reps_lower  reps_upper\n",
       "0      Border Collie  Brightest Dogs  95%           1           4\n",
       "1             Poodle  Brightest Dogs  95%           1           4\n",
       "2    German Shepherd  Brightest Dogs  95%           1           4\n",
       "3   Golden Retriever  Brightest Dogs  95%           1           4\n",
       "4  Doberman Pinscher  Brightest Dogs  95%           1           4"
      ]
     },
     "execution_count": 9,
     "metadata": {},
     "output_type": "execute_result"
    }
   ],
   "source": [
    "#testing the intelligence table after connecting to ensure connection worked\n",
    "pd.read_sql_query('select * from intelligence_info', con=engine).head()"
   ]
  },
  {
   "cell_type": "code",
   "execution_count": 10,
   "metadata": {},
   "outputs": [
    {
     "name": "stderr",
     "output_type": "stream",
     "text": [
      "/var/folders/w0/dyll3qjj14n0d4qd0jv9g_4w0000gn/T/ipykernel_6768/2110304788.py:3: SADeprecationWarning: The Engine.table_names() method is deprecated and will be removed in a future release.  Please refer to Inspector.get_table_names(). (deprecated since: 1.4)\n",
      "  engine.table_names()\n"
     ]
    },
    {
     "data": {
      "text/plain": [
       "['intelligence_info', 'breed_info']"
      ]
     },
     "execution_count": 10,
     "metadata": {},
     "output_type": "execute_result"
    }
   ],
   "source": [
    "#connect breeds table to postgres\n",
    "dog_df.to_sql(name='breed_info', con=engine, if_exists='append', index=False)\n",
    "engine.table_names()"
   ]
  },
  {
   "cell_type": "code",
   "execution_count": 11,
   "metadata": {},
   "outputs": [
    {
     "data": {
      "text/html": [
       "<div>\n",
       "<style scoped>\n",
       "    .dataframe tbody tr th:only-of-type {\n",
       "        vertical-align: middle;\n",
       "    }\n",
       "\n",
       "    .dataframe tbody tr th {\n",
       "        vertical-align: top;\n",
       "    }\n",
       "\n",
       "    .dataframe thead th {\n",
       "        text-align: right;\n",
       "    }\n",
       "</style>\n",
       "<table border=\"1\" class=\"dataframe\">\n",
       "  <thead>\n",
       "    <tr style=\"text-align: right;\">\n",
       "      <th></th>\n",
       "      <th>ID</th>\n",
       "      <th>breed</th>\n",
       "      <th>weight</th>\n",
       "      <th>height</th>\n",
       "      <th>breed_group</th>\n",
       "      <th>bred_for</th>\n",
       "    </tr>\n",
       "  </thead>\n",
       "  <tbody>\n",
       "    <tr>\n",
       "      <th>0</th>\n",
       "      <td>1</td>\n",
       "      <td>Affenpinscher</td>\n",
       "      <td>3 - 6</td>\n",
       "      <td>23 - 29</td>\n",
       "      <td>Toy</td>\n",
       "      <td>Small rodent hunting, lapdog</td>\n",
       "    </tr>\n",
       "    <tr>\n",
       "      <th>1</th>\n",
       "      <td>2</td>\n",
       "      <td>Afghan Hound</td>\n",
       "      <td>23 - 27</td>\n",
       "      <td>64 - 69</td>\n",
       "      <td>Hound</td>\n",
       "      <td>Coursing and hunting</td>\n",
       "    </tr>\n",
       "    <tr>\n",
       "      <th>2</th>\n",
       "      <td>3</td>\n",
       "      <td>African Hunting Dog</td>\n",
       "      <td>20 - 30</td>\n",
       "      <td>76</td>\n",
       "      <td>Unknown</td>\n",
       "      <td>A wild pack animal</td>\n",
       "    </tr>\n",
       "    <tr>\n",
       "      <th>3</th>\n",
       "      <td>4</td>\n",
       "      <td>Airedale Terrier</td>\n",
       "      <td>18 - 29</td>\n",
       "      <td>53 - 58</td>\n",
       "      <td>Terrier</td>\n",
       "      <td>Badger, otter hunting</td>\n",
       "    </tr>\n",
       "    <tr>\n",
       "      <th>4</th>\n",
       "      <td>5</td>\n",
       "      <td>Akbash Dog</td>\n",
       "      <td>41 - 54</td>\n",
       "      <td>71 - 86</td>\n",
       "      <td>Working</td>\n",
       "      <td>Sheep guarding</td>\n",
       "    </tr>\n",
       "  </tbody>\n",
       "</table>\n",
       "</div>"
      ],
      "text/plain": [
       "   ID                breed   weight   height breed_group  \\\n",
       "0   1        Affenpinscher    3 - 6  23 - 29         Toy   \n",
       "1   2         Afghan Hound  23 - 27  64 - 69       Hound   \n",
       "2   3  African Hunting Dog  20 - 30       76     Unknown   \n",
       "3   4     Airedale Terrier  18 - 29  53 - 58     Terrier   \n",
       "4   5           Akbash Dog  41 - 54  71 - 86     Working   \n",
       "\n",
       "                       bred_for  \n",
       "0  Small rodent hunting, lapdog  \n",
       "1          Coursing and hunting  \n",
       "2            A wild pack animal  \n",
       "3         Badger, otter hunting  \n",
       "4                Sheep guarding  "
      ]
     },
     "execution_count": 11,
     "metadata": {},
     "output_type": "execute_result"
    }
   ],
   "source": [
    "#testing the breeds table after connecting to ensure connection worked\n",
    "pd.read_sql_query('select * from breed_info', con=engine).head()"
   ]
  },
  {
   "cell_type": "code",
   "execution_count": null,
   "metadata": {},
   "outputs": [],
   "source": []
  }
 ],
 "metadata": {
  "kernelspec": {
   "display_name": "Python 3 (ipykernel)",
   "language": "python",
   "name": "python3"
  },
  "language_info": {
   "codemirror_mode": {
    "name": "ipython",
    "version": 3
   },
   "file_extension": ".py",
   "mimetype": "text/x-python",
   "name": "python",
   "nbconvert_exporter": "python",
   "pygments_lexer": "ipython3",
   "version": "3.9.7"
  }
 },
 "nbformat": 4,
 "nbformat_minor": 4
}
